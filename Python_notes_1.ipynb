{
  "nbformat": 4,
  "nbformat_minor": 0,
  "metadata": {
    "colab": {
      "provenance": []
    },
    "kernelspec": {
      "name": "python3",
      "display_name": "Python 3"
    },
    "language_info": {
      "name": "python"
    }
  },
  "cells": [
    {
      "cell_type": "markdown",
      "source": [
        " In data science we see that the artifical intlligance , in side the artifical intelligence we find the machine learning , deep learning , computer vision and natural language processing. Here we see that machine learning is the building blocks of artifical intelligence so machine learning is sub divided in to supervised mc ,unsupervised MC , and reniforcement learning and in the deep learning we find the neural networks -- they are the -- artifical neural networks , recurrent neural networks and conventional neural networks.\n",
        "if you study the conventional neural networks you find the computer vision and if you explore recurrent neura networks you find the natual language processing.\n",
        "Here cv stands for the computer vision and NLP stands for the natural language processing. computer vision is face id and driving cards etc. Cv is in the form of the images and videos and natural languages is in the form of text and audio.\n",
        "Stroy telling is the process of defining the visual information in to the text.\n",
        "The python is the programming language which helps the communicate with the computer . There are two faces in the phyton they are the complied and interriptend language. In complilation we see that there is two steps to follow they are compliation , preprocessing and execusion and in the interprettation we see that the compliation and execution . The python is such language it will goes to execution without complitation.We find that the online IDE AND OFFLINE IDE .The IDE stands for the integrated development enivronment.In phython we find the variables in the phyton they are the containers which help to store the data. Data type ---1) numerical data\n",
        "                      2) sequentional data\n",
        "                      3) Bollean data\n",
        "  *Artifical intelligance can be divided in to three types they are narrow ai, generic ai and super ai.\n",
        "1)In the neumerical data we find the integers , float, complex number.\n",
        "2) In the sequentional data we find the strings, list, tuple.\n",
        "3) In the bollean type of data we find the sets and dictionaries.\n",
        "IN the phyton instead of I we are writing the J value.\n",
        "* Any thing which is represented in the invited comas is called the string ,And any thing which is represented in the brackets is called the list.\n",
        " Keys --- print()\n",
        "          type()\n",
        "          Input()\n",
        "\n"
      ],
      "metadata": {
        "id": "bh3KF8t3UFCR"
      }
    },
    {
      "cell_type": "code",
      "source": [
        "new_list=[1,2,3,4,5,6,7,8]"
      ],
      "metadata": {
        "id": "ggCla7ieYvav"
      },
      "execution_count": null,
      "outputs": []
    },
    {
      "cell_type": "code",
      "source": [
        "print(new_list)"
      ],
      "metadata": {
        "colab": {
          "base_uri": "https://localhost:8080/"
        },
        "id": "niQwEGZfZLBv",
        "outputId": "2c66de9d-293f-4f76-e021-04af177e98a7"
      },
      "execution_count": null,
      "outputs": [
        {
          "output_type": "stream",
          "name": "stdout",
          "text": [
            "[1, 2, 3, 4, 5, 6, 7, 8]\n"
          ]
        }
      ]
    },
    {
      "cell_type": "code",
      "source": [
        "name=\"Ravi\""
      ],
      "metadata": {
        "id": "G5xcS_WeZSDO"
      },
      "execution_count": null,
      "outputs": []
    },
    {
      "cell_type": "code",
      "source": [
        "print(name)"
      ],
      "metadata": {
        "colab": {
          "base_uri": "https://localhost:8080/"
        },
        "id": "FHx9RLqJZQWn",
        "outputId": "8f5e59d5-1078-4423-bcab-7db036db527a"
      },
      "execution_count": null,
      "outputs": [
        {
          "output_type": "stream",
          "name": "stdout",
          "text": [
            "Ravi\n"
          ]
        }
      ]
    },
    {
      "cell_type": "code",
      "source": [
        "type(name)"
      ],
      "metadata": {
        "colab": {
          "base_uri": "https://localhost:8080/"
        },
        "id": "-JcREbyKZW_2",
        "outputId": "d01e6c2e-4aea-4f4b-ed7a-09f50c1fa402"
      },
      "execution_count": null,
      "outputs": [
        {
          "output_type": "execute_result",
          "data": {
            "text/plain": [
              "str"
            ]
          },
          "metadata": {},
          "execution_count": 5
        }
      ]
    },
    {
      "cell_type": "code",
      "source": [
        "t = ('apple', 'banana', 'mango', 'india', 78, 98, -98)"
      ],
      "metadata": {
        "id": "qv2lNzK3ZbqG"
      },
      "execution_count": null,
      "outputs": []
    },
    {
      "cell_type": "code",
      "source": [
        "print(t)"
      ],
      "metadata": {
        "colab": {
          "base_uri": "https://localhost:8080/"
        },
        "id": "DcDQe6-XZ5ew",
        "outputId": "83312be1-2579-4332-bfb6-052285650524"
      },
      "execution_count": null,
      "outputs": [
        {
          "output_type": "stream",
          "name": "stdout",
          "text": [
            "('apple', 'banana', 'mango', 'india', 78, 98, -98)\n"
          ]
        }
      ]
    },
    {
      "cell_type": "code",
      "source": [
        "type(t)"
      ],
      "metadata": {
        "colab": {
          "base_uri": "https://localhost:8080/"
        },
        "id": "BX4qc509Z7ov",
        "outputId": "387dee8a-6c10-4de2-81d0-07c6a6a6dde0"
      },
      "execution_count": null,
      "outputs": [
        {
          "output_type": "execute_result",
          "data": {
            "text/plain": [
              "tuple"
            ]
          },
          "metadata": {},
          "execution_count": 10
        }
      ]
    },
    {
      "cell_type": "markdown",
      "source": [
        "Now ,we are seeing the concatination , indexing and slicing , the concatinating is the adding the two subjects and indexing means giving the particular postion to the element and slicing means fetching the elements with the help of the indexing."
      ],
      "metadata": {
        "id": "QxXbr_B6aBPT"
      }
    },
    {
      "cell_type": "code",
      "source": [
        "a=\"Ravi\"\n",
        "b=\"shankar\""
      ],
      "metadata": {
        "id": "BEjni6XVZ_9k"
      },
      "execution_count": null,
      "outputs": []
    },
    {
      "cell_type": "code",
      "source": [
        "print(a+b)"
      ],
      "metadata": {
        "colab": {
          "base_uri": "https://localhost:8080/"
        },
        "id": "Hof_AXMradXc",
        "outputId": "644078bd-8658-4d63-982b-b91247878a3a"
      },
      "execution_count": null,
      "outputs": [
        {
          "output_type": "stream",
          "name": "stdout",
          "text": [
            "Ravishankar\n"
          ]
        }
      ]
    },
    {
      "cell_type": "code",
      "source": [
        "print(a +b)"
      ],
      "metadata": {
        "colab": {
          "base_uri": "https://localhost:8080/"
        },
        "id": "8W0CuYF3ag7S",
        "outputId": "0198dff0-af94-400b-97dc-b8d60099dfbb"
      },
      "execution_count": null,
      "outputs": [
        {
          "output_type": "stream",
          "name": "stdout",
          "text": [
            "Ravishankar\n"
          ]
        }
      ]
    },
    {
      "cell_type": "code",
      "source": [
        "l1=[1,2,3,4,5,6,7,8]\n",
        "l2=['mango', 'apple']"
      ],
      "metadata": {
        "id": "w1oJUUT1alUz"
      },
      "execution_count": null,
      "outputs": []
    },
    {
      "cell_type": "code",
      "source": [
        "print(l1+l2)"
      ],
      "metadata": {
        "colab": {
          "base_uri": "https://localhost:8080/"
        },
        "id": "frX3wAKnax2V",
        "outputId": "9efb6165-7b04-4642-f677-b27305e0e174"
      },
      "execution_count": null,
      "outputs": [
        {
          "output_type": "stream",
          "name": "stdout",
          "text": [
            "[1, 2, 3, 4, 5, 6, 7, 8, 'mango', 'apple']\n"
          ]
        }
      ]
    },
    {
      "cell_type": "code",
      "source": [
        "a=\"indian ocean\""
      ],
      "metadata": {
        "id": "2aSJlbYea0vr"
      },
      "execution_count": null,
      "outputs": []
    },
    {
      "cell_type": "code",
      "source": [
        "a[0]"
      ],
      "metadata": {
        "colab": {
          "base_uri": "https://localhost:8080/",
          "height": 36
        },
        "id": "c_9ca5tAa-Ti",
        "outputId": "fe154231-7386-453e-c8e6-f57467e79989"
      },
      "execution_count": null,
      "outputs": [
        {
          "output_type": "execute_result",
          "data": {
            "text/plain": [
              "'i'"
            ],
            "application/vnd.google.colaboratory.intrinsic+json": {
              "type": "string"
            }
          },
          "metadata": {},
          "execution_count": 19
        }
      ]
    },
    {
      "cell_type": "code",
      "source": [
        "a[-12]"
      ],
      "metadata": {
        "colab": {
          "base_uri": "https://localhost:8080/",
          "height": 36
        },
        "id": "_KTKIE9dbVyp",
        "outputId": "9cc293bc-eeab-4310-bc14-c430c5ebf6f2"
      },
      "execution_count": null,
      "outputs": [
        {
          "output_type": "execute_result",
          "data": {
            "text/plain": [
              "'i'"
            ],
            "application/vnd.google.colaboratory.intrinsic+json": {
              "type": "string"
            }
          },
          "metadata": {},
          "execution_count": 21
        }
      ]
    },
    {
      "cell_type": "code",
      "source": [
        "l_new=['artifical intelligance', 'machine learning', 'deep learning', 'computer vision', 'natural language processing']"
      ],
      "metadata": {
        "id": "P8XqpZrJbc0H"
      },
      "execution_count": null,
      "outputs": []
    },
    {
      "cell_type": "code",
      "source": [
        "print(l_new)"
      ],
      "metadata": {
        "colab": {
          "base_uri": "https://localhost:8080/"
        },
        "id": "foyQq404bxMp",
        "outputId": "91ed065c-8b0d-4ec7-ed10-db29eaa5344d"
      },
      "execution_count": null,
      "outputs": [
        {
          "output_type": "stream",
          "name": "stdout",
          "text": [
            "['artifical intelligance', 'machine learning', 'deep learning', 'computer vision', 'natural language processing']\n"
          ]
        }
      ]
    },
    {
      "cell_type": "code",
      "source": [
        "l_new[4]"
      ],
      "metadata": {
        "colab": {
          "base_uri": "https://localhost:8080/",
          "height": 36
        },
        "id": "fQaJDVYIbzoX",
        "outputId": "6dc74fba-13d0-4c74-985b-eb260f75a200"
      },
      "execution_count": null,
      "outputs": [
        {
          "output_type": "execute_result",
          "data": {
            "text/plain": [
              "'natural language processing'"
            ],
            "application/vnd.google.colaboratory.intrinsic+json": {
              "type": "string"
            }
          },
          "metadata": {},
          "execution_count": 25
        }
      ]
    },
    {
      "cell_type": "code",
      "source": [
        "l_new[1]"
      ],
      "metadata": {
        "colab": {
          "base_uri": "https://localhost:8080/",
          "height": 36
        },
        "id": "OHmpZx4UcBVt",
        "outputId": "e42458f6-3fbc-4705-e03a-c72daf431c78"
      },
      "execution_count": null,
      "outputs": [
        {
          "output_type": "execute_result",
          "data": {
            "text/plain": [
              "'machine learning'"
            ],
            "application/vnd.google.colaboratory.intrinsic+json": {
              "type": "string"
            }
          },
          "metadata": {},
          "execution_count": 26
        }
      ]
    },
    {
      "cell_type": "markdown",
      "source": [
        "Now we are doing the both concatination and the indexing"
      ],
      "metadata": {
        "id": "aoj4fTqNcNGX"
      }
    },
    {
      "cell_type": "code",
      "source": [
        "first_name=\"ravi\"\n",
        "last_name=\"shankar\""
      ],
      "metadata": {
        "id": "6INtWYS6cGS9"
      },
      "execution_count": null,
      "outputs": []
    },
    {
      "cell_type": "code",
      "source": [
        "print(first_name+last_name)"
      ],
      "metadata": {
        "colab": {
          "base_uri": "https://localhost:8080/"
        },
        "id": "tNhkviPxcbQp",
        "outputId": "e49bac17-ce5c-4538-85ae-3c9c28d93db4"
      },
      "execution_count": null,
      "outputs": [
        {
          "output_type": "stream",
          "name": "stdout",
          "text": [
            "ravishankar\n"
          ]
        }
      ]
    },
    {
      "cell_type": "markdown",
      "source": [
        "Now we are proforming the slicing"
      ],
      "metadata": {
        "id": "eJmPlJSBcrv3"
      }
    },
    {
      "cell_type": "code",
      "source": [
        "a=\"indian ocean\""
      ],
      "metadata": {
        "id": "lv_zvG4IchQD"
      },
      "execution_count": null,
      "outputs": []
    },
    {
      "cell_type": "code",
      "source": [
        "a[0:8]"
      ],
      "metadata": {
        "colab": {
          "base_uri": "https://localhost:8080/",
          "height": 36
        },
        "id": "95K2xD-Wc5TX",
        "outputId": "26801a1b-549f-4ca2-8e7b-8381e586f892"
      },
      "execution_count": null,
      "outputs": [
        {
          "output_type": "execute_result",
          "data": {
            "text/plain": [
              "'indian o'"
            ],
            "application/vnd.google.colaboratory.intrinsic+json": {
              "type": "string"
            }
          },
          "metadata": {},
          "execution_count": 30
        }
      ]
    },
    {
      "cell_type": "code",
      "source": [
        "a[-7:-1]"
      ],
      "metadata": {
        "colab": {
          "base_uri": "https://localhost:8080/",
          "height": 36
        },
        "id": "FOT8tLPXc8Zt",
        "outputId": "eb75e697-095f-452c-f375-d72f8e6f49b5"
      },
      "execution_count": null,
      "outputs": [
        {
          "output_type": "execute_result",
          "data": {
            "text/plain": [
              "'n ocea'"
            ],
            "application/vnd.google.colaboratory.intrinsic+json": {
              "type": "string"
            }
          },
          "metadata": {},
          "execution_count": 32
        }
      ]
    },
    {
      "cell_type": "code",
      "source": [
        "my_list=[1,2,3,4,'Russia','india','pakisthan','alsaka','japan','canada']"
      ],
      "metadata": {
        "id": "IrerwopFdGlG"
      },
      "execution_count": null,
      "outputs": []
    },
    {
      "cell_type": "code",
      "source": [
        "print(my_list)"
      ],
      "metadata": {
        "colab": {
          "base_uri": "https://localhost:8080/"
        },
        "id": "iYMFkrh3dXpp",
        "outputId": "e3bc5a47-f1e5-4bd5-fbdf-3b69c7316403"
      },
      "execution_count": null,
      "outputs": [
        {
          "output_type": "stream",
          "name": "stdout",
          "text": [
            "[1, 2, 3, 4, 'Russia', 'india', 'pakisthan', 'alsaka', 'japan', 'canada']\n"
          ]
        }
      ]
    },
    {
      "cell_type": "code",
      "source": [
        "my_list[1:8]"
      ],
      "metadata": {
        "colab": {
          "base_uri": "https://localhost:8080/"
        },
        "id": "MntSOf1XdaUN",
        "outputId": "4530c269-ed3f-4e48-9bf0-f6146e0bb327"
      },
      "execution_count": null,
      "outputs": [
        {
          "output_type": "execute_result",
          "data": {
            "text/plain": [
              "[2, 3, 4, 'Russia', 'india', 'pakisthan', 'alsaka']"
            ]
          },
          "metadata": {},
          "execution_count": 35
        }
      ]
    },
    {
      "cell_type": "code",
      "source": [
        "my_list[-7:-1]"
      ],
      "metadata": {
        "colab": {
          "base_uri": "https://localhost:8080/"
        },
        "id": "58JD-nKIdeql",
        "outputId": "b36377a2-59b4-4f2c-a475-f6984fb16488"
      },
      "execution_count": null,
      "outputs": [
        {
          "output_type": "execute_result",
          "data": {
            "text/plain": [
              "[4, 'Russia', 'india', 'pakisthan', 'alsaka', 'japan']"
            ]
          },
          "metadata": {},
          "execution_count": 36
        }
      ]
    },
    {
      "cell_type": "code",
      "source": [
        "a='ravi'"
      ],
      "metadata": {
        "id": "IxEdg-JzdjP5"
      },
      "execution_count": null,
      "outputs": []
    },
    {
      "cell_type": "code",
      "source": [
        "a.upper()"
      ],
      "metadata": {
        "colab": {
          "base_uri": "https://localhost:8080/",
          "height": 36
        },
        "id": "gnSyfUdZdnUj",
        "outputId": "2f2328bf-3c9b-4c42-e104-805d91c96e91"
      },
      "execution_count": null,
      "outputs": [
        {
          "output_type": "execute_result",
          "data": {
            "text/plain": [
              "'RAVI'"
            ],
            "application/vnd.google.colaboratory.intrinsic+json": {
              "type": "string"
            }
          },
          "metadata": {},
          "execution_count": 38
        }
      ]
    },
    {
      "cell_type": "code",
      "source": [
        "a.lower()"
      ],
      "metadata": {
        "colab": {
          "base_uri": "https://localhost:8080/",
          "height": 36
        },
        "id": "5EWHbCS-dqNv",
        "outputId": "9671f57b-3eee-4907-9c23-0567f5ad4a33"
      },
      "execution_count": null,
      "outputs": [
        {
          "output_type": "execute_result",
          "data": {
            "text/plain": [
              "'ravi'"
            ],
            "application/vnd.google.colaboratory.intrinsic+json": {
              "type": "string"
            }
          },
          "metadata": {},
          "execution_count": 39
        }
      ]
    },
    {
      "cell_type": "code",
      "source": [
        "print(name.capitalize())"
      ],
      "metadata": {
        "colab": {
          "base_uri": "https://localhost:8080/"
        },
        "id": "xy3HV4R3d0ez",
        "outputId": "24165bbd-bd44-49a6-a7e5-7eab37359cb6"
      },
      "execution_count": null,
      "outputs": [
        {
          "output_type": "stream",
          "name": "stdout",
          "text": [
            "Ravi\n"
          ]
        }
      ]
    },
    {
      "cell_type": "markdown",
      "source": [
        "If you want ot  do the capalitize so we use the function of the print(name. capalitize())"
      ],
      "metadata": {
        "id": "roH8gs1KeN8-"
      }
    },
    {
      "cell_type": "code",
      "source": [
        "\"statement = \"hello I am doing good, hello am from anantapur, hello am from the india"
      ],
      "metadata": {
        "id": "rK4Mdowfd7jk"
      },
      "execution_count": null,
      "outputs": []
    },
    {
      "cell_type": "code",
      "source": [
        "print(statement .replace(\"hello\" , \"we\"))"
      ],
      "metadata": {
        "colab": {
          "base_uri": "https://localhost:8080/"
        },
        "id": "Tq7vs5Lpewy-",
        "outputId": "4f093703-929b-4ebf-dfe8-2f84e7c76c5d"
      },
      "execution_count": null,
      "outputs": [
        {
          "output_type": "stream",
          "name": "stdout",
          "text": [
            "we I am doing good, we am from anantapur, we am from the india\n"
          ]
        }
      ]
    },
    {
      "cell_type": "code",
      "source": [
        "print(statement.replace(\"we\",\"i\",1))"
      ],
      "metadata": {
        "colab": {
          "base_uri": "https://localhost:8080/"
        },
        "id": "lbHIWoeFf44Z",
        "outputId": "4e30eb7a-26aa-4524-ffca-3cc907f6e4bc"
      },
      "execution_count": null,
      "outputs": [
        {
          "output_type": "stream",
          "name": "stdout",
          "text": [
            "hello I am doing good, hello am from anantapur, hello am from the india\n"
          ]
        }
      ]
    },
    {
      "cell_type": "code",
      "source": [
        "statement = \"hello I am doing good, hello am from anantapur, hello am from the india\""
      ],
      "metadata": {
        "id": "XJgPrucWgE3e"
      },
      "execution_count": null,
      "outputs": []
    },
    {
      "cell_type": "code",
      "source": [
        "print(statement.replace(\"hello\",\"Hi\",1))"
      ],
      "metadata": {
        "colab": {
          "base_uri": "https://localhost:8080/"
        },
        "id": "q_M8DnJNgP0u",
        "outputId": "d6ed00a1-3532-4054-9b05-056ddda00f4b"
      },
      "execution_count": null,
      "outputs": [
        {
          "output_type": "stream",
          "name": "stdout",
          "text": [
            "Hi I am doing good, hello am from anantapur, hello am from the india\n"
          ]
        }
      ]
    },
    {
      "cell_type": "code",
      "source": [
        "print(len(statement))"
      ],
      "metadata": {
        "colab": {
          "base_uri": "https://localhost:8080/"
        },
        "id": "db4ypdwYgW6I",
        "outputId": "408ee0e6-d2af-4bf4-c927-ac1968fa8213"
      },
      "execution_count": null,
      "outputs": [
        {
          "output_type": "stream",
          "name": "stdout",
          "text": [
            "71\n"
          ]
        }
      ]
    },
    {
      "cell_type": "code",
      "source": [
        "print(statement.count('H'))"
      ],
      "metadata": {
        "colab": {
          "base_uri": "https://localhost:8080/"
        },
        "id": "NS7AnHiUgndF",
        "outputId": "9c81328f-ab44-449b-f173-7ad724557a60"
      },
      "execution_count": null,
      "outputs": [
        {
          "output_type": "stream",
          "name": "stdout",
          "text": [
            "0\n"
          ]
        }
      ]
    },
    {
      "cell_type": "markdown",
      "source": [
        "Still now we see that the a.upper() function and a.lower() function , print(name.capatilize()), print(len()) function and print(count(particular letter))"
      ],
      "metadata": {
        "id": "3FMtFGNdg5Fd"
      }
    },
    {
      "cell_type": "code",
      "source": [
        "my_list= ['artifical intelligance','machine learning','deep leearning','computer vision', 'neural networks']"
      ],
      "metadata": {
        "id": "qd_epQT2g2lk"
      },
      "execution_count": null,
      "outputs": []
    },
    {
      "cell_type": "code",
      "source": [
        "print(my_list)"
      ],
      "metadata": {
        "colab": {
          "base_uri": "https://localhost:8080/"
        },
        "id": "z7tfUofoiL_r",
        "outputId": "3d78c3ee-4d21-4f47-a6dd-97797ddbb70d"
      },
      "execution_count": null,
      "outputs": [
        {
          "output_type": "stream",
          "name": "stdout",
          "text": [
            "['artifical intelligance', 'machine learning', 'deep leearning', 'computer vision', 'neural networks']\n"
          ]
        }
      ]
    },
    {
      "cell_type": "code",
      "source": [
        "my_list.append('python')"
      ],
      "metadata": {
        "id": "_NSvqfB8iOPb"
      },
      "execution_count": null,
      "outputs": []
    },
    {
      "cell_type": "code",
      "source": [
        "print(my_list)"
      ],
      "metadata": {
        "colab": {
          "base_uri": "https://localhost:8080/"
        },
        "id": "WO1jj3k1iTYm",
        "outputId": "e93e8d1f-aa3d-44ff-a027-98ba34701352"
      },
      "execution_count": null,
      "outputs": [
        {
          "output_type": "stream",
          "name": "stdout",
          "text": [
            "['artifical intelligance', 'machine learning', 'deep leearning', 'computer vision', 'neural networks', 'python']\n"
          ]
        }
      ]
    },
    {
      "cell_type": "code",
      "source": [
        "my_list.insert(2,'data science')"
      ],
      "metadata": {
        "id": "sJY7bWlkiWc1"
      },
      "execution_count": null,
      "outputs": []
    },
    {
      "cell_type": "code",
      "source": [
        "print(my_list)"
      ],
      "metadata": {
        "colab": {
          "base_uri": "https://localhost:8080/"
        },
        "id": "jISgyL1ZinHm",
        "outputId": "cd9082c5-5c5d-453f-d84b-11889348c6ba"
      },
      "execution_count": null,
      "outputs": [
        {
          "output_type": "stream",
          "name": "stdout",
          "text": [
            "['artifical intelligance', 'machine learning', 'data science', 'deep leearning', 'computer vision', 'neural networks', 'python']\n"
          ]
        }
      ]
    },
    {
      "cell_type": "code",
      "source": [
        "my_list.remove('machine learning')"
      ],
      "metadata": {
        "id": "JvcAE3tripRb"
      },
      "execution_count": null,
      "outputs": []
    },
    {
      "cell_type": "code",
      "source": [
        "print(my_list)"
      ],
      "metadata": {
        "colab": {
          "base_uri": "https://localhost:8080/"
        },
        "id": "RX9PVOzLi0cT",
        "outputId": "16eb3e37-06eb-4d15-a90f-335e5412c5db"
      },
      "execution_count": null,
      "outputs": [
        {
          "output_type": "stream",
          "name": "stdout",
          "text": [
            "['artifical intelligance', 'data science', 'deep leearning', 'computer vision', 'neural networks', 'python']\n"
          ]
        }
      ]
    },
    {
      "cell_type": "code",
      "source": [
        "my_list.pop()"
      ],
      "metadata": {
        "colab": {
          "base_uri": "https://localhost:8080/",
          "height": 36
        },
        "id": "hPzX1_jNi3Eq",
        "outputId": "34546114-203f-473d-cf6b-156f1b003c4f"
      },
      "execution_count": null,
      "outputs": [
        {
          "output_type": "execute_result",
          "data": {
            "text/plain": [
              "'python'"
            ],
            "application/vnd.google.colaboratory.intrinsic+json": {
              "type": "string"
            }
          },
          "metadata": {},
          "execution_count": 75
        }
      ]
    },
    {
      "cell_type": "code",
      "source": [
        "print(my_list)"
      ],
      "metadata": {
        "colab": {
          "base_uri": "https://localhost:8080/"
        },
        "id": "FlXx1b53i8Q8",
        "outputId": "02e8bc7d-40d7-474c-d308-c838d08c4f60"
      },
      "execution_count": null,
      "outputs": [
        {
          "output_type": "stream",
          "name": "stdout",
          "text": [
            "['artifical intelligance', 'data science', 'deep leearning', 'computer vision', 'neural networks']\n"
          ]
        }
      ]
    },
    {
      "cell_type": "code",
      "source": [
        "my_list.extend(['1,2,3,4'])"
      ],
      "metadata": {
        "id": "QRhBFnrDjAA6"
      },
      "execution_count": null,
      "outputs": []
    },
    {
      "cell_type": "code",
      "source": [
        "print(my_list)"
      ],
      "metadata": {
        "colab": {
          "base_uri": "https://localhost:8080/"
        },
        "id": "Vw7dWckWjaQj",
        "outputId": "79c2c1f5-b699-49ad-c55e-3f48fe117e1a"
      },
      "execution_count": null,
      "outputs": [
        {
          "output_type": "stream",
          "name": "stdout",
          "text": [
            "['artifical intelligance', 'data science', 'deep leearning', 'computer vision', 'neural networks', '1,2,3,4']\n"
          ]
        }
      ]
    },
    {
      "cell_type": "code",
      "source": [
        "print(len(my_list))"
      ],
      "metadata": {
        "colab": {
          "base_uri": "https://localhost:8080/"
        },
        "id": "DT0XbdiijcpQ",
        "outputId": "7e70ad91-eb4a-4a2f-c2af-9823a1880c08"
      },
      "execution_count": null,
      "outputs": [
        {
          "output_type": "stream",
          "name": "stdout",
          "text": [
            "6\n"
          ]
        }
      ]
    },
    {
      "cell_type": "code",
      "source": [
        "max(my_list)"
      ],
      "metadata": {
        "colab": {
          "base_uri": "https://localhost:8080/",
          "height": 36
        },
        "id": "ul8MgTt4jh0j",
        "outputId": "8b8092d7-e116-4a74-de61-f022501aeb67"
      },
      "execution_count": null,
      "outputs": [
        {
          "output_type": "execute_result",
          "data": {
            "text/plain": [
              "'neural networks'"
            ],
            "application/vnd.google.colaboratory.intrinsic+json": {
              "type": "string"
            }
          },
          "metadata": {},
          "execution_count": 80
        }
      ]
    },
    {
      "cell_type": "code",
      "source": [
        "min(my_list)"
      ],
      "metadata": {
        "colab": {
          "base_uri": "https://localhost:8080/",
          "height": 36
        },
        "id": "WdVUc7Esjl_a",
        "outputId": "58632644-a1db-4d07-92b3-eef2c05135d2"
      },
      "execution_count": null,
      "outputs": [
        {
          "output_type": "execute_result",
          "data": {
            "text/plain": [
              "'1,2,3,4'"
            ],
            "application/vnd.google.colaboratory.intrinsic+json": {
              "type": "string"
            }
          },
          "metadata": {},
          "execution_count": 81
        }
      ]
    },
    {
      "cell_type": "code",
      "source": [
        "my_list=[1,2,3,4,56]"
      ],
      "metadata": {
        "id": "bkUW1o7wjoex"
      },
      "execution_count": null,
      "outputs": []
    },
    {
      "cell_type": "code",
      "source": [
        "print(sum(my_list))"
      ],
      "metadata": {
        "colab": {
          "base_uri": "https://localhost:8080/"
        },
        "id": "DvJgcylOjzJ7",
        "outputId": "371b1809-79f9-4432-cbc8-0155f790d27d"
      },
      "execution_count": null,
      "outputs": [
        {
          "output_type": "stream",
          "name": "stdout",
          "text": [
            "66\n"
          ]
        }
      ]
    },
    {
      "cell_type": "code",
      "source": [
        "new_list=[1,6,9,8,6,8,3,6,2]"
      ],
      "metadata": {
        "id": "nwcHVRaJj3VZ"
      },
      "execution_count": null,
      "outputs": []
    },
    {
      "cell_type": "code",
      "source": [
        "print(new_list.sort())"
      ],
      "metadata": {
        "colab": {
          "base_uri": "https://localhost:8080/"
        },
        "id": "iU2ELgiZkDuF",
        "outputId": "5f3f413c-645e-44a5-d816-feefa4c7df72"
      },
      "execution_count": null,
      "outputs": [
        {
          "output_type": "stream",
          "name": "stdout",
          "text": [
            "None\n"
          ]
        }
      ]
    },
    {
      "cell_type": "code",
      "source": [
        "print(new_list.sort(reverse=True))"
      ],
      "metadata": {
        "colab": {
          "base_uri": "https://localhost:8080/"
        },
        "id": "CXAsxRCikKdb",
        "outputId": "e371a014-9bfa-4265-ca9a-ec15629d1be5"
      },
      "execution_count": null,
      "outputs": [
        {
          "output_type": "stream",
          "name": "stdout",
          "text": [
            "None\n"
          ]
        }
      ]
    },
    {
      "cell_type": "markdown",
      "source": [
        "Till now we see that teh append function and insert function to insert value in the particular place and remove and min , max ,and by adding all with sum function and sort function to arrange all in acending order and for the descending order we are using the sort(reverse True) function. And for the list remove , pop for the last value remove."
      ],
      "metadata": {
        "id": "n6Kz6rklkYEd"
      }
    },
    {
      "cell_type": "code",
      "source": [
        "l1=[\"china\",\"america\",\"india\",[\"england\",\"canada\",\"usa\"]]"
      ],
      "metadata": {
        "id": "ROFvIb61lU9R"
      },
      "execution_count": null,
      "outputs": []
    },
    {
      "cell_type": "code",
      "source": [
        "print(l1)"
      ],
      "metadata": {
        "id": "hmjF31h-kXC5",
        "colab": {
          "base_uri": "https://localhost:8080/"
        },
        "outputId": "3ddd04f9-6220-48d1-c10a-6cb715aac048"
      },
      "execution_count": null,
      "outputs": [
        {
          "output_type": "stream",
          "name": "stdout",
          "text": [
            "['china', 'america', 'india', ['england', 'canada', 'usa']]\n"
          ]
        }
      ]
    },
    {
      "cell_type": "code",
      "source": [
        "l1[:4]"
      ],
      "metadata": {
        "colab": {
          "base_uri": "https://localhost:8080/"
        },
        "id": "2PAUqJ07qwfm",
        "outputId": "32207a07-873d-4d25-c46d-6d0af8c7adde"
      },
      "execution_count": null,
      "outputs": [
        {
          "output_type": "execute_result",
          "data": {
            "text/plain": [
              "['china', 'america', 'india', ['england', 'canada', 'usa']]"
            ]
          },
          "metadata": {},
          "execution_count": 9
        }
      ]
    },
    {
      "cell_type": "code",
      "source": [
        "l1=[\"india\",\"usa\",[\"china\",\"apple\",\"mango\",23,45,-56,-33]]"
      ],
      "metadata": {
        "id": "ddKdifMjrO5A"
      },
      "execution_count": null,
      "outputs": []
    },
    {
      "cell_type": "code",
      "source": [
        "print(l1)"
      ],
      "metadata": {
        "colab": {
          "base_uri": "https://localhost:8080/"
        },
        "id": "Wr3cL23pr38q",
        "outputId": "7547348b-256b-4257-9cdd-2127262065ba"
      },
      "execution_count": null,
      "outputs": [
        {
          "output_type": "stream",
          "name": "stdout",
          "text": [
            "['india', 'usa', ['china', 'apple', 'mango', 23, 45, -56, -33]]\n"
          ]
        }
      ]
    },
    {
      "cell_type": "code",
      "source": [
        "l1[2][0]"
      ],
      "metadata": {
        "colab": {
          "base_uri": "https://localhost:8080/",
          "height": 36
        },
        "id": "tEWj_C96r7CO",
        "outputId": "0c669a44-625a-4575-b84e-0f91a6146c94"
      },
      "execution_count": null,
      "outputs": [
        {
          "output_type": "execute_result",
          "data": {
            "text/plain": [
              "'china'"
            ],
            "application/vnd.google.colaboratory.intrinsic+json": {
              "type": "string"
            }
          },
          "metadata": {},
          "execution_count": 28
        }
      ]
    },
    {
      "cell_type": "code",
      "source": [
        "l1[2][0:4]"
      ],
      "metadata": {
        "colab": {
          "base_uri": "https://localhost:8080/"
        },
        "id": "MzsSH6h1tPr6",
        "outputId": "69b2d471-9b2a-467c-abf6-f6825fba1b88"
      },
      "execution_count": null,
      "outputs": [
        {
          "output_type": "execute_result",
          "data": {
            "text/plain": [
              "['china', 'apple', 'mango', 23]"
            ]
          },
          "metadata": {},
          "execution_count": 29
        }
      ]
    },
    {
      "cell_type": "code",
      "source": [
        "l1[2][0:6]"
      ],
      "metadata": {
        "colab": {
          "base_uri": "https://localhost:8080/"
        },
        "id": "GBRzX5IMtUku",
        "outputId": "1babb635-51df-430e-b792-bea2734f2236"
      },
      "execution_count": null,
      "outputs": [
        {
          "output_type": "execute_result",
          "data": {
            "text/plain": [
              "['china', 'apple', 'mango', 23, 45, -56]"
            ]
          },
          "metadata": {},
          "execution_count": 30
        }
      ]
    },
    {
      "cell_type": "code",
      "source": [
        "# tuples are immutable in nature , the modofications cannot be occur in the tuple"
      ],
      "metadata": {
        "id": "iQg7WV6Gta6w"
      },
      "execution_count": null,
      "outputs": []
    },
    {
      "cell_type": "code",
      "source": [
        "t=(\"india\",\"usa\",\"china\",\"apple\",\"mango\",23,45,-56,-33)"
      ],
      "metadata": {
        "id": "CQIRN4mBtpj-"
      },
      "execution_count": null,
      "outputs": []
    },
    {
      "cell_type": "code",
      "source": [
        "print(t)"
      ],
      "metadata": {
        "colab": {
          "base_uri": "https://localhost:8080/"
        },
        "id": "WOIlseOVtxLs",
        "outputId": "8fb32404-6a91-4e54-aa0c-f17a16f35861"
      },
      "execution_count": null,
      "outputs": [
        {
          "output_type": "stream",
          "name": "stdout",
          "text": [
            "('india', 'usa', 'china', 'apple', 'mango', 23, 45, -56, -33)\n"
          ]
        }
      ]
    },
    {
      "cell_type": "code",
      "source": [
        "type(t)"
      ],
      "metadata": {
        "colab": {
          "base_uri": "https://localhost:8080/"
        },
        "id": "CXEx1UOutzW6",
        "outputId": "df20c1e8-3392-4430-a9a2-69f9910bf572"
      },
      "execution_count": null,
      "outputs": [
        {
          "output_type": "execute_result",
          "data": {
            "text/plain": [
              "tuple"
            ]
          },
          "metadata": {},
          "execution_count": 37
        }
      ]
    },
    {
      "cell_type": "code",
      "source": [
        "t[2]"
      ],
      "metadata": {
        "colab": {
          "base_uri": "https://localhost:8080/",
          "height": 36
        },
        "id": "uEivHeaLt2FF",
        "outputId": "ec874266-1392-43a3-9039-ac826602d7d3"
      },
      "execution_count": null,
      "outputs": [
        {
          "output_type": "execute_result",
          "data": {
            "text/plain": [
              "'china'"
            ],
            "application/vnd.google.colaboratory.intrinsic+json": {
              "type": "string"
            }
          },
          "metadata": {},
          "execution_count": 39
        }
      ]
    },
    {
      "cell_type": "code",
      "source": [
        "t[4]"
      ],
      "metadata": {
        "colab": {
          "base_uri": "https://localhost:8080/",
          "height": 36
        },
        "id": "Qz4AZYkQuIQZ",
        "outputId": "ad2dc103-ce67-42b0-8ec3-12c1a23b205f"
      },
      "execution_count": null,
      "outputs": [
        {
          "output_type": "execute_result",
          "data": {
            "text/plain": [
              "'mango'"
            ],
            "application/vnd.google.colaboratory.intrinsic+json": {
              "type": "string"
            }
          },
          "metadata": {},
          "execution_count": 40
        }
      ]
    },
    {
      "cell_type": "code",
      "source": [
        "t[0:8]"
      ],
      "metadata": {
        "colab": {
          "base_uri": "https://localhost:8080/"
        },
        "id": "419cx2fnuKgo",
        "outputId": "aa481976-6128-4a64-9f57-6358303c15c3"
      },
      "execution_count": null,
      "outputs": [
        {
          "output_type": "execute_result",
          "data": {
            "text/plain": [
              "('india', 'usa', 'china', 'apple', 'mango', 23, 45, -56)"
            ]
          },
          "metadata": {},
          "execution_count": 41
        }
      ]
    },
    {
      "cell_type": "code",
      "source": [
        "my_tupe=(1,2,3,4,5,6,7)"
      ],
      "metadata": {
        "id": "0SSWhahruPsT"
      },
      "execution_count": null,
      "outputs": []
    },
    {
      "cell_type": "code",
      "source": [
        "sum(my_tupe)"
      ],
      "metadata": {
        "colab": {
          "base_uri": "https://localhost:8080/"
        },
        "id": "7p8PWNWTuViK",
        "outputId": "16e9871a-7a63-4cb4-d720-9509788da2c5"
      },
      "execution_count": null,
      "outputs": [
        {
          "output_type": "execute_result",
          "data": {
            "text/plain": [
              "28"
            ]
          },
          "metadata": {},
          "execution_count": 43
        }
      ]
    },
    {
      "cell_type": "code",
      "source": [
        "max(my_tupe)"
      ],
      "metadata": {
        "colab": {
          "base_uri": "https://localhost:8080/"
        },
        "id": "FmYBN8hRuYjm",
        "outputId": "9a35b2df-c084-49c1-fc67-3f3d4c4a0324"
      },
      "execution_count": null,
      "outputs": [
        {
          "output_type": "execute_result",
          "data": {
            "text/plain": [
              "7"
            ]
          },
          "metadata": {},
          "execution_count": 44
        }
      ]
    },
    {
      "cell_type": "code",
      "source": [
        "min(my_tupe)"
      ],
      "metadata": {
        "colab": {
          "base_uri": "https://localhost:8080/"
        },
        "id": "VYY5XsX7ua5U",
        "outputId": "c41b45e9-6b29-4897-961f-38c58d96da58"
      },
      "execution_count": null,
      "outputs": [
        {
          "output_type": "execute_result",
          "data": {
            "text/plain": [
              "1"
            ]
          },
          "metadata": {},
          "execution_count": 45
        }
      ]
    },
    {
      "cell_type": "code",
      "source": [
        "len(my_tupe)"
      ],
      "metadata": {
        "colab": {
          "base_uri": "https://localhost:8080/"
        },
        "id": "k1Q1Ukgquc2a",
        "outputId": "fe6c3dd8-da30-4c92-afb6-0356777b20bc"
      },
      "execution_count": null,
      "outputs": [
        {
          "output_type": "execute_result",
          "data": {
            "text/plain": [
              "7"
            ]
          },
          "metadata": {},
          "execution_count": 46
        }
      ]
    },
    {
      "cell_type": "code",
      "source": [
        "#my_tupe.sort is not work in tuple and concatination are also be not work in the tuple or tupe\n"
      ],
      "metadata": {
        "id": "JCQkrBT9uhBm"
      },
      "execution_count": null,
      "outputs": []
    },
    {
      "cell_type": "code",
      "source": [
        "y=[\"china\",\"india\",\"canada\",\"america\",\"usa\",\"England\",\"pakistan\"]"
      ],
      "metadata": {
        "id": "tMgXa53zu11g"
      },
      "execution_count": null,
      "outputs": []
    },
    {
      "cell_type": "code",
      "source": [
        "print(y)"
      ],
      "metadata": {
        "colab": {
          "base_uri": "https://localhost:8080/"
        },
        "id": "E4TPUQ5lvjjb",
        "outputId": "372e1c31-7511-4ce9-a93f-7ef3d4d447d4"
      },
      "execution_count": null,
      "outputs": [
        {
          "output_type": "stream",
          "name": "stdout",
          "text": [
            "['china', 'india', 'canada', 'america', 'usa', 'England', 'pakistan']\n"
          ]
        }
      ]
    },
    {
      "cell_type": "code",
      "source": [
        "w=[\"1,2,3,4,5,6,79\"]"
      ],
      "metadata": {
        "id": "up11zlzQvKGu"
      },
      "execution_count": null,
      "outputs": []
    },
    {
      "cell_type": "code",
      "source": [
        "print(w)"
      ],
      "metadata": {
        "colab": {
          "base_uri": "https://localhost:8080/"
        },
        "id": "gvsGq9Rcvm9z",
        "outputId": "4053d1da-49bd-4f04-e9a5-05a83c2a4d43"
      },
      "execution_count": null,
      "outputs": [
        {
          "output_type": "stream",
          "name": "stdout",
          "text": [
            "['1,2,3,4,5,6,79']\n"
          ]
        }
      ]
    },
    {
      "cell_type": "code",
      "source": [
        "print(y+w)"
      ],
      "metadata": {
        "colab": {
          "base_uri": "https://localhost:8080/"
        },
        "id": "4N0qGJkUvQRX",
        "outputId": "7ea85012-7280-4c92-b72e-c01b90f45b49"
      },
      "execution_count": null,
      "outputs": [
        {
          "output_type": "stream",
          "name": "stdout",
          "text": [
            "['china', 'india', 'canada', 'america', 'usa', 'England', 'pakistan', '1,2,3,4,5,6,79']\n"
          ]
        }
      ]
    },
    {
      "cell_type": "code",
      "source": [
        "# now we are starting the dictionaries , in dictionaries we are using the {} this brackets , in tuples we are using the () this type of the brackets and in the list we are using the normal brackets[]"
      ],
      "metadata": {
        "id": "d9BuHMHMv6xv"
      },
      "execution_count": null,
      "outputs": []
    },
    {
      "cell_type": "code",
      "source": [
        "#in dictionaries we are using the both keys and the values both are written in the list and dictionaries are the bollean type of the data"
      ],
      "metadata": {
        "id": "B9LwV4iaxjB6"
      },
      "execution_count": null,
      "outputs": []
    },
    {
      "cell_type": "code",
      "source": [
        "memo={'chips':68,'chocolates':4567,'books':9908,'apple':899}"
      ],
      "metadata": {
        "id": "Ybg6huamxxWd"
      },
      "execution_count": null,
      "outputs": []
    },
    {
      "cell_type": "code",
      "source": [
        "print(memo)"
      ],
      "metadata": {
        "colab": {
          "base_uri": "https://localhost:8080/"
        },
        "id": "GhWbQ-7ox_Gt",
        "outputId": "913155b4-23fd-4ae8-fcd5-dcbcf334902a"
      },
      "execution_count": null,
      "outputs": [
        {
          "output_type": "stream",
          "name": "stdout",
          "text": [
            "{'chips': 68, 'chocolates': 4567, 'books': 9908, 'apple': 899}\n"
          ]
        }
      ]
    },
    {
      "cell_type": "code",
      "source": [
        "type(memo)"
      ],
      "metadata": {
        "colab": {
          "base_uri": "https://localhost:8080/"
        },
        "id": "pS-hg1U3yByb",
        "outputId": "30314ace-3727-479d-84e3-80954e6be8ef"
      },
      "execution_count": null,
      "outputs": [
        {
          "output_type": "execute_result",
          "data": {
            "text/plain": [
              "dict"
            ]
          },
          "metadata": {},
          "execution_count": 69
        }
      ]
    },
    {
      "cell_type": "code",
      "source": [
        "memo['chocolate']=800"
      ],
      "metadata": {
        "id": "yJ0yTKRyyIry"
      },
      "execution_count": null,
      "outputs": []
    },
    {
      "cell_type": "code",
      "source": [
        "print(memo)"
      ],
      "metadata": {
        "colab": {
          "base_uri": "https://localhost:8080/"
        },
        "id": "VbRpSRSnyRJ7",
        "outputId": "2287806d-2699-4896-8e06-eb8af14789b3"
      },
      "execution_count": null,
      "outputs": [
        {
          "output_type": "stream",
          "name": "stdout",
          "text": [
            "{'chips': 68, 'chocolates': 4567, 'books': 9908, 'apple': 899, 'chocolate': 800}\n"
          ]
        }
      ]
    },
    {
      "cell_type": "code",
      "source": [
        "memo['chips']"
      ],
      "metadata": {
        "colab": {
          "base_uri": "https://localhost:8080/"
        },
        "id": "AOE1Rc1hyUH5",
        "outputId": "e4630649-0c45-4e44-bc5e-72edc8643d98"
      },
      "execution_count": null,
      "outputs": [
        {
          "output_type": "execute_result",
          "data": {
            "text/plain": [
              "68"
            ]
          },
          "metadata": {},
          "execution_count": 73
        }
      ]
    },
    {
      "cell_type": "code",
      "source": [
        "memo['chocolates']"
      ],
      "metadata": {
        "colab": {
          "base_uri": "https://localhost:8080/"
        },
        "id": "Pl6QZ_XAyZ4H",
        "outputId": "28e322db-8faf-4fde-b612-7348bf2f3641"
      },
      "execution_count": null,
      "outputs": [
        {
          "output_type": "execute_result",
          "data": {
            "text/plain": [
              "4567"
            ]
          },
          "metadata": {},
          "execution_count": 74
        }
      ]
    },
    {
      "cell_type": "code",
      "source": [
        "memo['chocolates']=100"
      ],
      "metadata": {
        "id": "Qdm-PeLyyeTu"
      },
      "execution_count": null,
      "outputs": []
    },
    {
      "cell_type": "code",
      "source": [
        "print(memo)"
      ],
      "metadata": {
        "colab": {
          "base_uri": "https://localhost:8080/"
        },
        "id": "D8FsksfOylcy",
        "outputId": "81f0e548-8c6f-481f-9f0d-138e990ab000"
      },
      "execution_count": null,
      "outputs": [
        {
          "output_type": "stream",
          "name": "stdout",
          "text": [
            "{'chips': 68, 'chocolates': 100, 'books': 9908, 'apple': 899, 'chocolate': 800}\n"
          ]
        }
      ]
    },
    {
      "cell_type": "code",
      "source": [
        "memo.keys()"
      ],
      "metadata": {
        "colab": {
          "base_uri": "https://localhost:8080/"
        },
        "id": "Tvz0oNvZyn6W",
        "outputId": "0df8e4d5-cdf4-40af-b79a-6a2ba12a5a79"
      },
      "execution_count": null,
      "outputs": [
        {
          "output_type": "execute_result",
          "data": {
            "text/plain": [
              "dict_keys(['chips', 'chocolates', 'books', 'apple', 'chocolate'])"
            ]
          },
          "metadata": {},
          "execution_count": 77
        }
      ]
    },
    {
      "cell_type": "code",
      "source": [
        "memo.values()"
      ],
      "metadata": {
        "colab": {
          "base_uri": "https://localhost:8080/"
        },
        "id": "kpY0BXMsyt-f",
        "outputId": "69a50924-6a0c-4a6a-f012-7fa50df6fe31"
      },
      "execution_count": null,
      "outputs": [
        {
          "output_type": "execute_result",
          "data": {
            "text/plain": [
              "dict_values([68, 100, 9908, 899, 800])"
            ]
          },
          "metadata": {},
          "execution_count": 78
        }
      ]
    },
    {
      "cell_type": "code",
      "source": [
        "memo['biscuits']=900"
      ],
      "metadata": {
        "id": "EG83yaAqyweU"
      },
      "execution_count": null,
      "outputs": []
    },
    {
      "cell_type": "code",
      "source": [
        "print(memo)"
      ],
      "metadata": {
        "colab": {
          "base_uri": "https://localhost:8080/"
        },
        "id": "7ia-0aKZy2tz",
        "outputId": "d24b923a-f3e5-4daf-91bd-c7c00e33adbb"
      },
      "execution_count": null,
      "outputs": [
        {
          "output_type": "stream",
          "name": "stdout",
          "text": [
            "{'chips': 68, 'chocolates': 100, 'books': 9908, 'apple': 899, 'chocolate': 800, 'biscuits': 900}\n"
          ]
        }
      ]
    },
    {
      "cell_type": "code",
      "source": [
        "memo.popitem()"
      ],
      "metadata": {
        "colab": {
          "base_uri": "https://localhost:8080/"
        },
        "id": "dHk0GT3My5S6",
        "outputId": "cf44faef-4812-4381-c3fc-6004b4817638"
      },
      "execution_count": null,
      "outputs": [
        {
          "output_type": "execute_result",
          "data": {
            "text/plain": [
              "('biscuits', 900)"
            ]
          },
          "metadata": {},
          "execution_count": 81
        }
      ]
    },
    {
      "cell_type": "code",
      "source": [
        "memo={'chips': 68, 'chocolates': 100, 'books': 9908, 'apple': 899, 'chocolate': 800}\n"
      ],
      "metadata": {
        "id": "O9_NLoAJy_CG"
      },
      "execution_count": null,
      "outputs": []
    },
    {
      "cell_type": "code",
      "source": [
        "memo.clear()"
      ],
      "metadata": {
        "id": "jYbqTAYCzZSR"
      },
      "execution_count": null,
      "outputs": []
    },
    {
      "cell_type": "code",
      "source": [
        "print(memo)"
      ],
      "metadata": {
        "colab": {
          "base_uri": "https://localhost:8080/"
        },
        "id": "k9JvQ_LFznLo",
        "outputId": "67215fe2-da29-453a-86d4-85051d0a447f"
      },
      "execution_count": null,
      "outputs": [
        {
          "output_type": "stream",
          "name": "stdout",
          "text": [
            "{}\n"
          ]
        }
      ]
    },
    {
      "cell_type": "code",
      "source": [
        "memo={'chips': 68, 'chocolates': 100, 'books': 9908, 'apple': 899, 'chocolate': 800}\n"
      ],
      "metadata": {
        "id": "7wonBSsfzpTH"
      },
      "execution_count": null,
      "outputs": []
    },
    {
      "cell_type": "code",
      "source": [
        "del memo['chocolate']"
      ],
      "metadata": {
        "id": "GjMlkglk6HJg"
      },
      "execution_count": null,
      "outputs": []
    },
    {
      "cell_type": "code",
      "source": [
        "print(memo)"
      ],
      "metadata": {
        "colab": {
          "base_uri": "https://localhost:8080/"
        },
        "id": "qyZC7sL16Kdj",
        "outputId": "54ac4b7f-5fb2-4cde-d971-de939f9d4f3d"
      },
      "execution_count": null,
      "outputs": [
        {
          "output_type": "stream",
          "name": "stdout",
          "text": [
            "{'chips': 68, 'chocolates': 100, 'books': 9908, 'apple': 899}\n"
          ]
        }
      ]
    },
    {
      "cell_type": "code",
      "source": [
        "del memo[\"chips\"]"
      ],
      "metadata": {
        "id": "snuciedYzzY9"
      },
      "execution_count": null,
      "outputs": []
    },
    {
      "cell_type": "code",
      "source": [
        "print(memo)"
      ],
      "metadata": {
        "colab": {
          "base_uri": "https://localhost:8080/"
        },
        "id": "v5vkU5mV5qTm",
        "outputId": "f6558cf3-455d-4010-931b-5ec1fdbfe984"
      },
      "execution_count": null,
      "outputs": [
        {
          "output_type": "stream",
          "name": "stdout",
          "text": [
            "{'books': 9908, 'apple': 899, 'chocolate': 800}\n"
          ]
        }
      ]
    },
    {
      "cell_type": "code",
      "source": [
        "del memo['books']"
      ],
      "metadata": {
        "id": "M5tKoAzw5sxZ"
      },
      "execution_count": null,
      "outputs": []
    },
    {
      "cell_type": "code",
      "source": [
        "print(memo)"
      ],
      "metadata": {
        "colab": {
          "base_uri": "https://localhost:8080/"
        },
        "id": "JVNJd6ww5w7D",
        "outputId": "f49dc6e1-2572-480f-ee11-942f85d68fdb"
      },
      "execution_count": null,
      "outputs": [
        {
          "output_type": "stream",
          "name": "stdout",
          "text": [
            "{'apple': 899, 'chocolate': 800}\n"
          ]
        }
      ]
    },
    {
      "cell_type": "code",
      "source": [
        "del memo['apple']"
      ],
      "metadata": {
        "id": "ohI-pRZ651fQ"
      },
      "execution_count": null,
      "outputs": []
    },
    {
      "cell_type": "code",
      "source": [
        "print(memo)"
      ],
      "metadata": {
        "colab": {
          "base_uri": "https://localhost:8080/"
        },
        "id": "o_NvScon57Ez",
        "outputId": "db25fcf3-ac59-4cdc-9b37-e52389e91695"
      },
      "execution_count": null,
      "outputs": [
        {
          "output_type": "stream",
          "name": "stdout",
          "text": [
            "{'chocolate': 800}\n"
          ]
        }
      ]
    },
    {
      "cell_type": "code",
      "source": [
        "del memo['chocolate']"
      ],
      "metadata": {
        "id": "AhGLYs-S59Mx"
      },
      "execution_count": null,
      "outputs": []
    },
    {
      "cell_type": "code",
      "source": [
        "print(memo)"
      ],
      "metadata": {
        "colab": {
          "base_uri": "https://localhost:8080/"
        },
        "id": "3QsxC0Ll6DxE",
        "outputId": "ae45482a-b8d3-4880-a5bf-784bf2d5c484"
      },
      "execution_count": null,
      "outputs": [
        {
          "output_type": "stream",
          "name": "stdout",
          "text": [
            "{}\n"
          ]
        }
      ]
    },
    {
      "cell_type": "code",
      "source": [
        "# till now we see that the key and values and seperation of keys as memo.keys() and values memo.values(), memo.clear(), memo.popitem(), del.memo() , in the dictionaries the remove value and the extend values cannot be work ."
      ],
      "metadata": {
        "id": "Q9bicMqS6M75"
      },
      "execution_count": null,
      "outputs": []
    },
    {
      "cell_type": "code",
      "source": [
        "# now we are going to do the sets iteams it is also releated to the bollean type of the data"
      ],
      "metadata": {
        "id": "tbvx0acU6yQs"
      },
      "execution_count": null,
      "outputs": []
    },
    {
      "cell_type": "code",
      "source": [
        "# in sets also we are using the {} this type of the brackets"
      ],
      "metadata": {
        "id": "M71TE5O967eq"
      },
      "execution_count": null,
      "outputs": []
    },
    {
      "cell_type": "code",
      "source": [
        "s={1,2,3,4,45,'russia','china','apple','buttan'}"
      ],
      "metadata": {
        "id": "l5RlBrV47C2h"
      },
      "execution_count": null,
      "outputs": []
    },
    {
      "cell_type": "code",
      "source": [
        "print(s)"
      ],
      "metadata": {
        "colab": {
          "base_uri": "https://localhost:8080/"
        },
        "id": "FJnhsvb37Kvo",
        "outputId": "24074f2e-1dff-4393-f20d-5f71bddf537b"
      },
      "execution_count": null,
      "outputs": [
        {
          "output_type": "stream",
          "name": "stdout",
          "text": [
            "{1, 2, 3, 4, 45, 'buttan', 'china', 'russia', 'apple'}\n"
          ]
        }
      ]
    },
    {
      "cell_type": "code",
      "source": [
        "type(s)"
      ],
      "metadata": {
        "colab": {
          "base_uri": "https://localhost:8080/"
        },
        "id": "MsZZbImj7NYJ",
        "outputId": "4793406a-e977-432c-cdcb-e1084444eb8a"
      },
      "execution_count": null,
      "outputs": [
        {
          "output_type": "execute_result",
          "data": {
            "text/plain": [
              "set"
            ]
          },
          "metadata": {},
          "execution_count": 129
        }
      ]
    },
    {
      "cell_type": "code",
      "source": [
        "# in the sets we cannot be dublicate the element , so it means one element cannot get repeated"
      ],
      "metadata": {
        "id": "WGtilq017PJK"
      },
      "execution_count": null,
      "outputs": []
    },
    {
      "cell_type": "code",
      "source": [
        "# in sets reather than the append and the extend we are using the add and discard function  . the discard function helps to remove tthe iteam"
      ],
      "metadata": {
        "id": "KXJcq_Hd7WTR"
      },
      "execution_count": null,
      "outputs": []
    },
    {
      "cell_type": "code",
      "source": [
        "s={1,2,3,4,45,'russia','china','apple','buttan'}"
      ],
      "metadata": {
        "id": "YLEC7Cps7oQT"
      },
      "execution_count": null,
      "outputs": []
    },
    {
      "cell_type": "code",
      "source": [
        "print(s)"
      ],
      "metadata": {
        "colab": {
          "base_uri": "https://localhost:8080/"
        },
        "id": "AW0TLIyD7pRY",
        "outputId": "39775efd-3a57-40fe-c24c-0b243d771fa6"
      },
      "execution_count": null,
      "outputs": [
        {
          "output_type": "stream",
          "name": "stdout",
          "text": [
            "{1, 2, 3, 4, 45, 'buttan', 'china', 'russia', 'apple'}\n"
          ]
        }
      ]
    },
    {
      "cell_type": "code",
      "source": [
        "s.add('India')"
      ],
      "metadata": {
        "id": "o6fvLV317rJr"
      },
      "execution_count": null,
      "outputs": []
    },
    {
      "cell_type": "code",
      "source": [
        "print(s)"
      ],
      "metadata": {
        "colab": {
          "base_uri": "https://localhost:8080/"
        },
        "id": "4iQRwuUt7wuO",
        "outputId": "6783bfef-5d85-4d58-f8db-a53f1e70e1f8"
      },
      "execution_count": null,
      "outputs": [
        {
          "output_type": "stream",
          "name": "stdout",
          "text": [
            "{1, 2, 3, 4, 45, 'India', 'buttan', 'china', 'russia', 'apple'}\n"
          ]
        }
      ]
    },
    {
      "cell_type": "code",
      "source": [
        "s.discard('russia')"
      ],
      "metadata": {
        "id": "6dWpxoY27yja"
      },
      "execution_count": null,
      "outputs": []
    },
    {
      "cell_type": "code",
      "source": [
        "print(s)"
      ],
      "metadata": {
        "colab": {
          "base_uri": "https://localhost:8080/"
        },
        "id": "Yv_B3cW772j8",
        "outputId": "071b8677-e82f-482b-ac5c-d4b5f12aefd8"
      },
      "execution_count": null,
      "outputs": [
        {
          "output_type": "stream",
          "name": "stdout",
          "text": [
            "{1, 2, 3, 4, 45, 'India', 'buttan', 'china', 'apple'}\n"
          ]
        }
      ]
    },
    {
      "cell_type": "code",
      "source": [
        "# in sets we are doing the just add and discard till now"
      ],
      "metadata": {
        "id": "r6jv18Sn74fY"
      },
      "execution_count": null,
      "outputs": []
    },
    {
      "cell_type": "code",
      "source": [
        "#now we are doing the bollean type of the data , the bollean type of the data shows that it is true are the false of the given element"
      ],
      "metadata": {
        "id": "v_StR76e7845"
      },
      "execution_count": null,
      "outputs": []
    },
    {
      "cell_type": "code",
      "source": [
        "a=10\n",
        "b=90\n"
      ],
      "metadata": {
        "id": "aQglj2tU8K4w"
      },
      "execution_count": null,
      "outputs": []
    },
    {
      "cell_type": "code",
      "source": [
        "print(a>b)"
      ],
      "metadata": {
        "colab": {
          "base_uri": "https://localhost:8080/"
        },
        "id": "9aYWpZmh8Ozi",
        "outputId": "1731c446-11cd-4c9a-f211-66d32026f33f"
      },
      "execution_count": null,
      "outputs": [
        {
          "output_type": "stream",
          "name": "stdout",
          "text": [
            "False\n"
          ]
        }
      ]
    },
    {
      "cell_type": "code",
      "source": [
        "print(a<b)"
      ],
      "metadata": {
        "colab": {
          "base_uri": "https://localhost:8080/"
        },
        "id": "EGWs40Pd8Rui",
        "outputId": "0ed06633-fae9-46b5-af17-6913a050b4d5"
      },
      "execution_count": null,
      "outputs": [
        {
          "output_type": "stream",
          "name": "stdout",
          "text": [
            "True\n"
          ]
        }
      ]
    },
    {
      "cell_type": "code",
      "source": [
        "type(a < b)"
      ],
      "metadata": {
        "colab": {
          "base_uri": "https://localhost:8080/"
        },
        "id": "iWFYg2Cm8VS7",
        "outputId": "fa9eeafa-61b3-4277-cbca-191496169eab"
      },
      "execution_count": null,
      "outputs": [
        {
          "output_type": "execute_result",
          "data": {
            "text/plain": [
              "bool"
            ]
          },
          "metadata": {},
          "execution_count": 143
        }
      ]
    },
    {
      "cell_type": "code",
      "source": [
        "# now we are doing the input function"
      ],
      "metadata": {
        "id": "fzWR2d3p8eqd"
      },
      "execution_count": null,
      "outputs": []
    },
    {
      "cell_type": "code",
      "source": [
        "otp=int(input(\"enter your four digits otp\"))"
      ],
      "metadata": {
        "colab": {
          "base_uri": "https://localhost:8080/"
        },
        "id": "rKkOh7V48lDy",
        "outputId": "5221fe7f-602b-4de3-c802-39c6118f0f13"
      },
      "execution_count": null,
      "outputs": [
        {
          "name": "stdout",
          "output_type": "stream",
          "text": [
            "enter your four digits otp1234\n"
          ]
        }
      ]
    },
    {
      "cell_type": "code",
      "source": [
        "temp=input('enter your name')"
      ],
      "metadata": {
        "colab": {
          "base_uri": "https://localhost:8080/"
        },
        "id": "8bUxE7te8ria",
        "outputId": "823c4707-7e45-448d-b2dd-c4f3eb4a4b1e"
      },
      "execution_count": null,
      "outputs": [
        {
          "name": "stdout",
          "output_type": "stream",
          "text": [
            "enter your nameRavi\n"
          ]
        }
      ]
    },
    {
      "cell_type": "code",
      "source": [
        "temp=int(input('enter your areas temperature'))"
      ],
      "metadata": {
        "colab": {
          "base_uri": "https://localhost:8080/"
        },
        "id": "D9OqxVdA9pdD",
        "outputId": "207786cf-2c6f-496c-d4aa-d37b7e77a35b"
      },
      "execution_count": null,
      "outputs": [
        {
          "name": "stdout",
          "output_type": "stream",
          "text": [
            "enter your areas temperature23\n"
          ]
        }
      ]
    },
    {
      "cell_type": "code",
      "source": [
        "temp=float(input('enter yours areas temperature'))"
      ],
      "metadata": {
        "colab": {
          "base_uri": "https://localhost:8080/"
        },
        "id": "7gW0nGFQ9wDd",
        "outputId": "feab7374-90e2-4c42-e953-f7981f19a9b0"
      },
      "execution_count": null,
      "outputs": [
        {
          "name": "stdout",
          "output_type": "stream",
          "text": [
            "enter yours areas temperature34.6\n"
          ]
        }
      ]
    },
    {
      "cell_type": "code",
      "source": [
        "# in bollean type of data till now we do the input functiopn which helps to write some thing inside of the box\n",
        "#int this means integer so we are using this int to restrict the customer given value\n",
        "# if the customer write number instead of letter it will take if we restrict by using int it wont to taken\n",
        "#if the value is float value like 45.6 we use instead of int ,we writing the float .so it allow float value"
      ],
      "metadata": {
        "id": "mGDoPmnH923b"
      },
      "execution_count": null,
      "outputs": []
    }
  ]
}